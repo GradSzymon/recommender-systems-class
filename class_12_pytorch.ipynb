{
 "cells": [
  {
   "cell_type": "code",
   "execution_count": 1,
   "metadata": {},
   "outputs": [],
   "source": [
    "%matplotlib inline\n",
    "%load_ext autoreload\n",
    "%autoreload 2\n",
    "\n",
    "import numpy as np\n",
    "import pandas as pd\n",
    "import matplotlib.pyplot as plt\n",
    "import seaborn as sns\n",
    "from IPython.display import Markdown, display, HTML\n",
    "\n",
    "import torch\n",
    "import torch.nn as nn\n",
    "import torch.optim as optim\n",
    "\n",
    "# Fix the dying kernel problem (only a problem in some installations - you can remove it, if it works without it)\n",
    "import os\n",
    "os.environ['KMP_DUPLICATE_LIB_OK'] = 'True'"
   ]
  },
  {
   "cell_type": "markdown",
   "metadata": {},
   "source": [
    "# PyTorch\n",
    "\n",
    "Here's your best friend when working with PyTorch: https://pytorch.org/docs/stable/index.html.\n",
    "\n",
    "The beginning of this notebook shows that PyTorch tensors can be used exactly like numpy arrays. Later in the notebook additional features of tensors will be presented."
   ]
  },
  {
   "cell_type": "markdown",
   "metadata": {},
   "source": [
    "## Creating PyTorch tensors"
   ]
  },
  {
   "cell_type": "markdown",
   "metadata": {},
   "source": [
    "### Directly"
   ]
  },
  {
   "cell_type": "code",
   "execution_count": 2,
   "metadata": {},
   "outputs": [
    {
     "name": "stdout",
     "output_type": "stream",
     "text": [
      "[[1. 2. 3.]\n",
      " [4. 5. 6.]\n",
      " [7. 8. 9.]]\n",
      "\n",
      "tensor([[1., 2., 3.],\n",
      "        [4., 5., 6.],\n",
      "        [7., 8., 9.]])\n"
     ]
    }
   ],
   "source": [
    "a = np.array(\n",
    "    [[1.0, 2.0, 3.0], \n",
    "     [4.0, 5.0, 6.0], \n",
    "     [7.0, 8.0, 9.0]]\n",
    ")\n",
    "\n",
    "print(a)\n",
    "print()\n",
    "\n",
    "t = torch.tensor(\n",
    "    [[1.0, 2.0, 3.0], \n",
    "     [4.0, 5.0, 6.0], \n",
    "     [7.0, 8.0, 9.0]]\n",
    ")\n",
    "\n",
    "print(t)"
   ]
  },
  {
   "cell_type": "markdown",
   "metadata": {},
   "source": [
    "### From a list"
   ]
  },
  {
   "cell_type": "code",
   "execution_count": 3,
   "metadata": {},
   "outputs": [
    {
     "name": "stdout",
     "output_type": "stream",
     "text": [
      "[[1.0, 2.0, 3.0], [4.0, 5.0, 6.0], [7.0, 8.0, 9.0]]\n",
      "\n",
      "[[1. 2. 3.]\n",
      " [4. 5. 6.]\n",
      " [7. 8. 9.]]\n",
      "\n",
      "tensor([[1., 2., 3.],\n",
      "        [4., 5., 6.],\n",
      "        [7., 8., 9.]])\n"
     ]
    }
   ],
   "source": [
    "l = [[1.0, 2.0, 3.0], \n",
    "     [4.0, 5.0, 6.0], \n",
    "     [7.0, 8.0, 9.0]]\n",
    "\n",
    "print(l)\n",
    "print()\n",
    "\n",
    "a = np.array(l)\n",
    "print(a)\n",
    "print()\n",
    "\n",
    "t = torch.tensor(l)\n",
    "print(t)"
   ]
  },
  {
   "cell_type": "markdown",
   "metadata": {},
   "source": [
    "### From a list comprehension"
   ]
  },
  {
   "cell_type": "code",
   "execution_count": 4,
   "metadata": {},
   "outputs": [
    {
     "name": "stdout",
     "output_type": "stream",
     "text": [
      "[0, 1, 4, 9, 16, 25, 36, 49, 64, 81]\n",
      "\n",
      "[ 0  1  4  9 16 25 36 49 64 81]\n",
      "\n",
      "tensor([ 0,  1,  4,  9, 16, 25, 36, 49, 64, 81])\n"
     ]
    }
   ],
   "source": [
    "a = [i**2 for i in range(10)]\n",
    "\n",
    "print(a)\n",
    "print()\n",
    "print(np.array(a))\n",
    "print()\n",
    "print(torch.tensor(a))"
   ]
  },
  {
   "cell_type": "markdown",
   "metadata": {},
   "source": [
    "### From a numpy array"
   ]
  },
  {
   "cell_type": "code",
   "execution_count": 5,
   "metadata": {},
   "outputs": [
    {
     "name": "stdout",
     "output_type": "stream",
     "text": [
      "tensor([[1., 2., 3.],\n",
      "        [4., 5., 6.],\n",
      "        [7., 8., 9.]], dtype=torch.float64)\n"
     ]
    }
   ],
   "source": [
    "a = np.array(\n",
    "    [[1.0, 2.0, 3.0], \n",
    "     [4.0, 5.0, 6.0], \n",
    "     [7.0, 8.0, 9.0]]\n",
    ")\n",
    "\n",
    "t = torch.tensor(a)\n",
    "\n",
    "print(t)"
   ]
  },
  {
   "cell_type": "markdown",
   "metadata": {},
   "source": [
    "### Ready-made functions in PyTorch"
   ]
  },
  {
   "cell_type": "code",
   "execution_count": 6,
   "metadata": {},
   "outputs": [
    {
     "name": "stdout",
     "output_type": "stream",
     "text": [
      "All zeros\n",
      "tensor([[0., 0., 0., 0.],\n",
      "        [0., 0., 0., 0.],\n",
      "        [0., 0., 0., 0.]])\n",
      "\n",
      "All chosen value (variant 1)\n",
      "tensor([[7., 7., 7., 7.],\n",
      "        [7., 7., 7., 7.],\n",
      "        [7., 7., 7., 7.]])\n",
      "\n",
      "All chosen value (variant 2)\n",
      "tensor([[7., 7., 7., 7.],\n",
      "        [7., 7., 7., 7.],\n",
      "        [7., 7., 7., 7.]])\n",
      "\n",
      "Random integers\n",
      "[[3 0]\n",
      " [1 4]\n",
      " [2 0]]\n",
      "\n",
      "tensor([[6, 0],\n",
      "        [5, 2],\n",
      "        [5, 2]])\n",
      "\n",
      "Random values from the normal distribution\n",
      "[[  4.65209556 -17.13271022]\n",
      " [ 13.52525853  -5.85364907]\n",
      " [-11.11987627 -12.67993258]]\n",
      "\n",
      "tensor([[ 13.4592, -10.1822],\n",
      "        [  6.2218,   7.5400],\n",
      "        [ -9.5198,   4.3355]])\n"
     ]
    }
   ],
   "source": [
    "# All zeros\n",
    "a = torch.zeros((3, 4))\n",
    "print(\"All zeros\")\n",
    "print(a)\n",
    "print()\n",
    "\n",
    "# All a chosen value\n",
    "a = torch.full((3, 4), 7.0)\n",
    "print(\"All chosen value (variant 1)\")\n",
    "print(a)\n",
    "print()\n",
    "\n",
    "# or\n",
    "\n",
    "a = torch.zeros((3, 4))\n",
    "a[:] = 7.0\n",
    "print(\"All chosen value (variant 2)\")\n",
    "print(a)\n",
    "print()\n",
    "\n",
    "# Random integers\n",
    "\n",
    "print(\"Random integers\")\n",
    "a = np.random.randint(low=0, high=10, size=(3, 2))\n",
    "print(a)\n",
    "print()\n",
    "a = torch.randint(low=0, high=10, size=(3, 2))\n",
    "print(a)\n",
    "print()\n",
    "\n",
    "# Random values from the normal distribution (Gaussian)\n",
    "\n",
    "print(\"Random values from the normal distribution\")\n",
    "a = np.random.normal(loc=0, scale=10, size=(3, 2))\n",
    "print(a)\n",
    "print()\n",
    "a = torch.normal(mean=0, std=10, size=(3, 2))\n",
    "print(a)"
   ]
  },
  {
   "cell_type": "markdown",
   "metadata": {},
   "source": [
    "## Slicing PyTorch tensors"
   ]
  },
  {
   "cell_type": "markdown",
   "metadata": {},
   "source": [
    "### Slicing in 1D\n",
    "\n",
    "To obtain only specific values from a PyTorch tensor one can use so called slicing. It has the form\n",
    "\n",
    "**arr[low:high:step]**\n",
    "\n",
    "where low is the lowest index to be retrieved, high is the lowest index not to be retrieved and step indicates that every step element will be taken."
   ]
  },
  {
   "cell_type": "code",
   "execution_count": 7,
   "metadata": {},
   "outputs": [
    {
     "name": "stdout",
     "output_type": "stream",
     "text": [
      "Original:  tensor([ 0,  1,  4,  9, 16, 25, 36, 49, 64, 81])\n",
      "First 5 elements: tensor([ 0,  1,  4,  9, 16])\n",
      "Elements from index 3 to index 5: tensor([ 9, 16, 25])\n",
      "Last 3 elements (negative indexing): tensor([49, 64, 81])\n",
      "Every second element: tensor([ 0,  4, 16, 36, 64])\n",
      "Negative step a[::-1] to obtain reverse order does not work for tensors\n"
     ]
    }
   ],
   "source": [
    "a = torch.tensor([i**2 for i in range(10)])\n",
    "\n",
    "print(\"Original: \", a)\n",
    "print(\"First 5 elements:\", a[:5])\n",
    "print(\"Elements from index 3 to index 5:\", a[3:6])\n",
    "print(\"Last 3 elements (negative indexing):\", a[-3:])\n",
    "print(\"Every second element:\", a[::2])\n",
    "\n",
    "print(\"Negative step a[::-1] to obtain reverse order does not work for tensors\")"
   ]
  },
  {
   "cell_type": "markdown",
   "metadata": {},
   "source": [
    "### Slicing in 2D\n",
    "\n",
    "In two dimensions it works similarly, just the slicing is separate for every dimension."
   ]
  },
  {
   "cell_type": "code",
   "execution_count": 8,
   "metadata": {},
   "outputs": [
    {
     "name": "stdout",
     "output_type": "stream",
     "text": [
      "Original: \n",
      "tensor([[ 0,  1,  2,  3,  4],\n",
      "        [ 5,  6,  7,  8,  9],\n",
      "        [10, 11, 12, 13, 14],\n",
      "        [15, 16, 17, 18, 19],\n",
      "        [20, 21, 22, 23, 24]])\n",
      "\n",
      "First 2 elements of the first 3 row:\n",
      "tensor([[ 0,  1],\n",
      "        [ 5,  6],\n",
      "        [10, 11]])\n",
      "\n",
      "Middle 3 elements from the middle 3 rows:\n",
      "tensor([[ 6,  7,  8],\n",
      "        [11, 12, 13],\n",
      "        [16, 17, 18]])\n",
      "\n",
      "Bottom-right 3 by 3 submatrix (negative indexing):\n",
      "tensor([[12, 13, 14],\n",
      "        [17, 18, 19],\n",
      "        [22, 23, 24]])\n"
     ]
    }
   ],
   "source": [
    "a = torch.tensor([i for i in range(25)]).reshape(5, 5)\n",
    "\n",
    "print(\"Original: \")\n",
    "print(a)\n",
    "print()\n",
    "print(\"First 2 elements of the first 3 row:\")\n",
    "print(a[:3, :2])\n",
    "print()\n",
    "print(\"Middle 3 elements from the middle 3 rows:\")\n",
    "print(a[1:4, 1:4])\n",
    "print()\n",
    "print(\"Bottom-right 3 by 3 submatrix (negative indexing):\")\n",
    "print(a[-3:, -3:])"
   ]
  },
  {
   "cell_type": "markdown",
   "metadata": {},
   "source": [
    "### Setting PyTorch tensor field values"
   ]
  },
  {
   "cell_type": "code",
   "execution_count": 9,
   "metadata": {},
   "outputs": [
    {
     "name": "stdout",
     "output_type": "stream",
     "text": [
      "Original: \n",
      "tensor([[ 0,  1,  2,  3,  4],\n",
      "        [ 5,  6,  7,  8,  9],\n",
      "        [10, 11, 12, 13, 14],\n",
      "        [15, 16, 17, 18, 19],\n",
      "        [20, 21, 22, 23, 24]])\n",
      "\n",
      "Middle values changed to 5\n",
      "tensor([[ 0,  1,  2,  3,  4],\n",
      "        [ 5,  5,  5,  5,  9],\n",
      "        [10,  5,  5,  5, 14],\n",
      "        [15,  5,  5,  5, 19],\n",
      "        [20, 21, 22, 23, 24]])\n",
      "\n",
      "Second matrix\n",
      "tensor([[ 0,  0,  2],\n",
      "        [ 6, 12, 20],\n",
      "        [30, 42, 56]])\n",
      "\n",
      "Second matrix substituted into the middle of the first matrix\n",
      "tensor([[ 0,  1,  2,  3,  4],\n",
      "        [ 5,  0,  0,  2,  9],\n",
      "        [10,  6, 12, 20, 14],\n",
      "        [15, 30, 42, 56, 19],\n",
      "        [20, 21, 22, 23, 24]])\n"
     ]
    }
   ],
   "source": [
    "a = torch.tensor([i for i in range(25)]).reshape(5, 5)\n",
    "\n",
    "print(\"Original: \")\n",
    "print(a)\n",
    "print()\n",
    "\n",
    "a[1:4, 1:4] = 5.0\n",
    "\n",
    "print(\"Middle values changed to 5\")\n",
    "print(a)\n",
    "print()\n",
    "\n",
    "b = torch.tensor([i**2 - i for i in range(9)]).reshape(3, 3)\n",
    "\n",
    "print(\"Second matrix\")\n",
    "print(b)\n",
    "print()\n",
    "\n",
    "a[1:4, 1:4] = b\n",
    "\n",
    "print(\"Second matrix substituted into the middle of the first matrix\")\n",
    "print(a)"
   ]
  },
  {
   "cell_type": "markdown",
   "metadata": {},
   "source": [
    "## Operations on PyTorch tensors\n",
    "\n",
    "It is important to remember that arithmetic operations on PyTorch tensors are always element-wise."
   ]
  },
  {
   "cell_type": "code",
   "execution_count": 10,
   "metadata": {},
   "outputs": [
    {
     "name": "stdout",
     "output_type": "stream",
     "text": [
      "tensor([[ 0,  1,  4],\n",
      "        [ 9, 16, 25],\n",
      "        [36, 49, 64]])\n",
      "\n",
      "tensor([[0.0000, 1.0000, 1.4142],\n",
      "        [1.7321, 2.0000, 2.2361],\n",
      "        [2.4495, 2.6458, 2.8284]])\n",
      "\n"
     ]
    }
   ],
   "source": [
    "a = torch.tensor([i**2 for i in range(9)]).reshape((3, 3))\n",
    "print(a)\n",
    "print()\n",
    "\n",
    "b = torch.tensor([i**0.5 for i in range(9)]).reshape((3, 3))\n",
    "print(b)\n",
    "print()"
   ]
  },
  {
   "cell_type": "markdown",
   "metadata": {},
   "source": [
    "### Element-wise sum"
   ]
  },
  {
   "cell_type": "code",
   "execution_count": 11,
   "metadata": {},
   "outputs": [
    {
     "name": "stdout",
     "output_type": "stream",
     "text": [
      "tensor([[ 0.0000,  2.0000,  5.4142],\n",
      "        [10.7321, 18.0000, 27.2361],\n",
      "        [38.4495, 51.6458, 66.8284]])\n"
     ]
    }
   ],
   "source": [
    "print(a + b)"
   ]
  },
  {
   "cell_type": "markdown",
   "metadata": {},
   "source": [
    "### Element-wise multiplication"
   ]
  },
  {
   "cell_type": "code",
   "execution_count": 12,
   "metadata": {},
   "outputs": [
    {
     "name": "stdout",
     "output_type": "stream",
     "text": [
      "tensor([[  0.0000,   1.0000,   5.6569],\n",
      "        [ 15.5885,  32.0000,  55.9017],\n",
      "        [ 88.1816, 129.6418, 181.0193]])\n"
     ]
    }
   ],
   "source": [
    "print(a * b)"
   ]
  },
  {
   "cell_type": "markdown",
   "metadata": {},
   "source": [
    "### Matrix multiplication"
   ]
  },
  {
   "cell_type": "code",
   "execution_count": 13,
   "metadata": {},
   "outputs": [
    {
     "name": "stdout",
     "output_type": "stream",
     "text": [
      "tensor([[ 11.5300,  12.5830,  13.5498],\n",
      "        [ 88.9501, 107.1438, 119.2157],\n",
      "        [241.6378, 303.3281, 341.4984]])\n",
      "\n",
      "tensor([[ 0.,  1.,  4.],\n",
      "        [ 9., 16., 25.],\n",
      "        [36., 49., 64.]])\n"
     ]
    }
   ],
   "source": [
    "# Tensor a contained integers (type Long by default) and must be changed to the float type\n",
    "a = a.type(torch.FloatTensor)\n",
    "\n",
    "print(torch.matmul(a, b))\n",
    "print()\n",
    "\n",
    "# Multiplication by the identity matrix (to check it works as expected)\n",
    "id_matrix = torch.tensor(\n",
    "    [[1.0, 0.0, 0.0], \n",
    "     [0.0, 1.0, 0.0], \n",
    "     [0.0, 0.0, 1.0]]\n",
    ")\n",
    "\n",
    "print(torch.matmul(id_matrix, a))"
   ]
  },
  {
   "cell_type": "markdown",
   "metadata": {},
   "source": [
    "### Calculating the mean"
   ]
  },
  {
   "cell_type": "code",
   "execution_count": 14,
   "metadata": {},
   "outputs": [
    {
     "name": "stdout",
     "output_type": "stream",
     "text": [
      "tensor([9, 9, 1, 8, 8])\n",
      "\n",
      "Mean:  tensor(7.)\n",
      "\n",
      "Mean:  7.0\n"
     ]
    }
   ],
   "source": [
    "a = torch.randint(low=0, high=10, size=(5,))\n",
    "\n",
    "print(a)\n",
    "print()\n",
    "\n",
    "print(\"Mean: \", torch.sum(a) / len(a))\n",
    "print()\n",
    "\n",
    "# To get a single value use tensor.item()\n",
    "\n",
    "print(\"Mean: \", (torch.sum(a) / len(a)).item())"
   ]
  },
  {
   "cell_type": "markdown",
   "metadata": {},
   "source": [
    "### Calculating the mean of every row"
   ]
  },
  {
   "cell_type": "code",
   "execution_count": 15,
   "metadata": {},
   "outputs": [
    {
     "name": "stdout",
     "output_type": "stream",
     "text": [
      "tensor([[6, 7, 0],\n",
      "        [1, 8, 3],\n",
      "        [2, 9, 7],\n",
      "        [6, 2, 8],\n",
      "        [8, 3, 2]])\n",
      "\n",
      "Mean: tensor([4.3333, 4.0000, 6.0000, 5.3333, 4.3333])\n",
      "Mean in the original matrix form:\n",
      "tensor([[4.3333],\n",
      "        [4.0000],\n",
      "        [6.0000],\n",
      "        [5.3333],\n",
      "        [4.3333]])\n"
     ]
    }
   ],
   "source": [
    "a = torch.randint(low=0, high=10, size=(5, 3))\n",
    "\n",
    "print(a)\n",
    "print()\n",
    "\n",
    "print(\"Mean:\", torch.sum(a, axis=1) / a.shape[1])\n",
    "\n",
    "print(\"Mean in the original matrix form:\")\n",
    "print((torch.sum(a, axis=1) / a.shape[1]).reshape(-1, 1))  # -1 calculates the right size to use all elements"
   ]
  },
  {
   "cell_type": "markdown",
   "metadata": {},
   "source": [
    "### More complex operations\n",
    "\n",
    "Note that more complex tensor operations can only be performed on tensors. Numpy operations can be performed on numpy arrays but also directly on lists."
   ]
  },
  {
   "cell_type": "code",
   "execution_count": 16,
   "metadata": {},
   "outputs": [
    {
     "name": "stdout",
     "output_type": "stream",
     "text": [
      "Vector to power 2 (element-wise)\n",
      "tensor([1., 4., 9.])\n",
      "\n",
      "Euler number to the power a (element-wise)\n",
      "tensor([ 2.7183,  7.3891, 20.0855])\n",
      "\n",
      "An even more complex expression\n",
      "tensor([0.6197, 1.8982, 4.8476])\n"
     ]
    }
   ],
   "source": [
    "a = torch.tensor([1.0, 2.0, 3.0])\n",
    "\n",
    "print(\"Vector to power 2 (element-wise)\")\n",
    "print(torch.pow(a, 2))\n",
    "print()\n",
    "print(\"Euler number to the power a (element-wise)\")\n",
    "print(torch.exp(a))\n",
    "print()\n",
    "print(\"An even more complex expression\")\n",
    "print((torch.pow(a, 2) + torch.exp(a)) / torch.sum(a))"
   ]
  },
  {
   "cell_type": "markdown",
   "metadata": {},
   "source": [
    "## PyTorch basic operations tasks"
   ]
  },
  {
   "cell_type": "markdown",
   "metadata": {},
   "source": [
    "**Task 1.** Calculate the sigmoid (logistic) function on every element of the following array [0.3, 1.2, -1.4, 0.2, -0.1, 0.1, 0.8, -0.25] and print the last 5 elements. Use only tensor operations."
   ]
  },
  {
   "cell_type": "code",
   "execution_count": 61,
   "metadata": {},
   "outputs": [
    {
     "name": "stdout",
     "output_type": "stream",
     "text": [
      "0.7685\n",
      "tensor([0.5744, 0.7685, 0.1978, 0.5498, 0.4750, 0.5250, 0.6900, 0.4378])\n"
     ]
    }
   ],
   "source": [
    "# Write your code here\n",
    "import math\n",
    "x = torch.tensor([0.3, 1.2, -1.4, 0.2, -0.1, 0.1, 0.8, -0.25])\n",
    "print(round(1/(1+math.exp(-1.2)), 4))\n",
    "sig_x = torch.sigmoid(x)\n",
    "print(sig_x)"
   ]
  },
  {
   "cell_type": "markdown",
   "metadata": {},
   "source": [
    "**Task 2.** Calculate the dot product of the following two vectors:<br/>\n",
    "$x = [3, 1, 4, 2, 6, 1, 4, 8]$<br/>\n",
    "$y = [5, 2, 3, 12, 2, 4, 17, 11]$<br/>\n",
    "a) by using element-wise mutliplication and torch.sum,<br/>\n",
    "b) by using torch.dot,<br/>\n",
    "b) by using torch.matmul and transposition (x.T)."
   ]
  },
  {
   "cell_type": "code",
   "execution_count": 31,
   "metadata": {},
   "outputs": [
    {
     "name": "stdout",
     "output_type": "stream",
     "text": [
      "tensor(225)\n"
     ]
    }
   ],
   "source": [
    "# Write your code here\n",
    "𝑥=torch.tensor([3,1,4,2,6,1,4,8])\n",
    "𝑦=torch.tensor([5,2,3,12,2,4,17,11])\n",
    "prod = x.dot(y)\n",
    "print(prod)"
   ]
  },
  {
   "cell_type": "markdown",
   "metadata": {},
   "source": [
    "**Task 3.** Calculate the following expression<br/>\n",
    "$$\\frac{1}{1 + e^{-x_0 \\theta_0 - \\ldots - x_9 \\theta_9 - \\theta_{10}}}$$\n",
    "for<br/>\n",
    "$x = [1.2, 2.3, 3.4, -0.7, 4.2, 2.7, -0.5, -2.1, -3.3, 0.2]$<br/>\n",
    "$\\theta = [7.7, 0.33, -2.12, -1.73, 2.9, -5.8, -0.9, 12.11, 3.43, -0.5, 1.65]$<br/>\n",
    "and print the result. Use only tensor operations."
   ]
  },
  {
   "cell_type": "code",
   "execution_count": 64,
   "metadata": {},
   "outputs": [
    {
     "name": "stdout",
     "output_type": "stream",
     "text": [
      "0.0\n"
     ]
    }
   ],
   "source": [
    "# Write your code here\n",
    "𝑥=[1.2, 2.3, 3.4, -0.7, 4.2, 2.7, -0.5, -2.1, -3.3, 0.2]\n",
    "t=[7.7, 0.33, -2.12, -1.73, 2.9, -5.8, -0.9, 12.11, 3.43, -0.5]\n",
    "suma=0\n",
    "for a, b in zip(x, t):\n",
    "    suma+= (a * b)\n",
    "\n",
    "suma += 1.65\n",
    "suma = -suma\n",
    "print(round((1/(1+math.exp(suma))), 8))"
   ]
  },
  {
   "cell_type": "markdown",
   "metadata": {},
   "source": [
    "# Tensor gradients\n",
    "\n",
    "Tensors are designed to be used in neural networks. Their most important functionality is automatic gradient and backward propagation calculation."
   ]
  },
  {
   "cell_type": "code",
   "execution_count": 66,
   "metadata": {},
   "outputs": [
    {
     "name": "stdout",
     "output_type": "stream",
     "text": [
      "0.25\n"
     ]
    }
   ],
   "source": [
    "w = 1.0\n",
    "f_w = math.log(w * math.exp(3*w))\n",
    "f_pw = 1/ (w+3)\n",
    "print(f_pw)"
   ]
  },
  {
   "cell_type": "code",
   "execution_count": 67,
   "metadata": {},
   "outputs": [
    {
     "name": "stdout",
     "output_type": "stream",
     "text": [
      "out=35.0\n",
      "\n",
      "gradient\n",
      "tensor([[12.,  3.],\n",
      "        [27.,  3.]])\n"
     ]
    }
   ],
   "source": [
    "x = torch.tensor([[2., -1.], [3., 1.]], requires_grad=True)\n",
    "out = x.pow(3).sum()  # the actual derivative is 3*x^2\n",
    "print(\"out={}\".format(out))\n",
    "print()\n",
    "\n",
    "out.backward()\n",
    "print(\"gradient\")\n",
    "print(x.grad)"
   ]
  },
  {
   "cell_type": "code",
   "execution_count": 68,
   "metadata": {},
   "outputs": [
    {
     "name": "stdout",
     "output_type": "stream",
     "text": [
      "tensor([ 4.,  2., -1.])\n",
      "tensor([ 2., -1.,  3.])\n",
      "tensor([ 0.1807,  0.0904, -0.0452])\n",
      "tensor([ 0.0904, -0.0452,  0.1355])\n"
     ]
    }
   ],
   "source": [
    "x = torch.tensor([2., -1., 3.], requires_grad=True)\n",
    "w = torch.tensor([4., 2., -1.], requires_grad=True)\n",
    "\n",
    "y = torch.sum(x * w)\n",
    "\n",
    "y.backward()\n",
    "print(x.grad)\n",
    "print(w.grad)\n",
    "\n",
    "x.grad.data.zero_()\n",
    "w.grad.data.zero_()\n",
    "\n",
    "y = torch.sigmoid(torch.sum(x * w))\n",
    "\n",
    "y.backward()\n",
    "print(x.grad)\n",
    "print(w.grad)"
   ]
  },
  {
   "cell_type": "markdown",
   "metadata": {},
   "source": [
    "# Backpropagation\n",
    "\n",
    "In this section we train weights $w$ of a simple model $y = \\text{sigmoid}(w * x)$ to obtain $y = 0.65$ on $x = [2.0, -1.0, 3.0]$."
   ]
  },
  {
   "cell_type": "code",
   "execution_count": 69,
   "metadata": {
    "scrolled": false
   },
   "outputs": [
    {
     "name": "stdout",
     "output_type": "stream",
     "text": [
      "tensor(0.9526, grad_fn=<SigmoidBackward>)\n",
      "x\n",
      "tensor([ 2., -1.,  3.])\n",
      "x.grad\n",
      "None\n",
      "w\n",
      "tensor([ 4.,  2., -1.], requires_grad=True)\n",
      "\n",
      "\n",
      "w\n",
      "tensor([ 3.9945,  2.0027, -1.0082], requires_grad=True)\n",
      "w.grad\n",
      "tensor([ 0.0547, -0.0273,  0.0820])\n",
      "y\n",
      "tensor(0.9526, grad_fn=<SigmoidBackward>)\n",
      "loss\n",
      "tensor(0.0916, grad_fn=<PowBackward0>)\n",
      "\n",
      "\n",
      "w\n",
      "tensor([ 3.9889,  2.0055, -1.0166], requires_grad=True)\n",
      "w.grad\n",
      "tensor([ 0.0563, -0.0281,  0.0844])\n",
      "y\n",
      "tensor(0.9508, grad_fn=<SigmoidBackward>)\n",
      "loss\n",
      "tensor(0.0905, grad_fn=<PowBackward0>)\n",
      "\n",
      "\n",
      "w\n",
      "tensor([ 3.9831,  2.0084, -1.0253], requires_grad=True)\n",
      "w.grad\n",
      "tensor([ 0.0579, -0.0290,  0.0869])\n",
      "y\n",
      "tensor(0.9489, grad_fn=<SigmoidBackward>)\n",
      "loss\n",
      "tensor(0.0894, grad_fn=<PowBackward0>)\n",
      "\n",
      "\n",
      "w\n",
      "tensor([ 3.6599,  2.1701, -1.5102], requires_grad=True)\n",
      "w.grad\n",
      "tensor([ 6.1291e-06, -3.0645e-06,  9.1936e-06])\n",
      "y\n",
      "tensor(0.6500, grad_fn=<SigmoidBackward>)\n",
      "loss\n",
      "tensor(4.5365e-11, grad_fn=<PowBackward0>)\n",
      "\n",
      "\n",
      "w\n",
      "tensor([ 3.6599,  2.1701, -1.5102], requires_grad=True)\n",
      "w.grad\n",
      "tensor([ 5.0985e-06, -2.5493e-06,  7.6478e-06])\n",
      "y\n",
      "tensor(0.6500, grad_fn=<SigmoidBackward>)\n",
      "loss\n",
      "tensor(3.1392e-11, grad_fn=<PowBackward0>)\n",
      "\n",
      "\n",
      "w\n",
      "tensor([ 3.6599,  2.1701, -1.5102], requires_grad=True)\n",
      "w.grad\n",
      "tensor([ 4.4477e-06, -2.2238e-06,  6.6715e-06])\n",
      "y\n",
      "tensor(0.6500, grad_fn=<SigmoidBackward>)\n",
      "loss\n",
      "tensor(2.3888e-11, grad_fn=<PowBackward0>)\n",
      "\n",
      "\n"
     ]
    },
    {
     "data": {
      "image/png": "[encoded data removed]",
      "text/plain": [
       "<Figure size 432x288 with 1 Axes>"
      ]
     },
     "metadata": {
      "needs_background": "light"
     },
     "output_type": "display_data"
    }
   ],
   "source": [
    "x = torch.tensor([2., -1., 3.], requires_grad=False)\n",
    "w = torch.tensor([4., 2., -1.], requires_grad=True)\n",
    "target = 0.65\n",
    "\n",
    "print(torch.sigmoid(torch.sum(x * w)))\n",
    "\n",
    "print(\"x\")\n",
    "print(x)\n",
    "print(\"x.grad\")\n",
    "print(x.grad)\n",
    "print(\"w\")\n",
    "print(w)\n",
    "print()\n",
    "print()\n",
    "\n",
    "optimizer = optim.SGD([w], lr=0.1)\n",
    "\n",
    "losses = []\n",
    "n_epochs = 100\n",
    "for epoch in range(n_epochs):\n",
    "\n",
    "    optimizer.zero_grad()\n",
    "    y = torch.sigmoid(torch.sum(x * w))\n",
    "    loss = torch.pow(y - target, 2)\n",
    "    loss.backward()\n",
    "    losses.append(loss.item())\n",
    "    optimizer.step()\n",
    "\n",
    "    if epoch < 3 or epoch > 96:\n",
    "        print(\"w\")\n",
    "        print(w)\n",
    "        print(\"w.grad\")\n",
    "        print(w.grad)\n",
    "        print(\"y\")\n",
    "        print(y)\n",
    "        print(\"loss\")\n",
    "        print(loss)\n",
    "        print()\n",
    "        print()\n",
    "        \n",
    "sns.lineplot(x=np.arange(n_epochs), y=losses).set_title('Training loss')\n",
    "plt.xlabel(\"epoch\")\n",
    "plt.ylabel(\"loss\")\n",
    "plt.show()"
   ]
  },
  {
   "cell_type": "markdown",
   "metadata": {},
   "source": [
    "# Proper PyTorch model with a fully-connected layer\n",
    "\n",
    "A fully-connected layer is represented by torch.nn.Linear. Its parameters are:\n",
    "  - in_features - the number of input neurons,\n",
    "  - out_features - the number of output neurons,\n",
    "  - bias - boolean if bias should be included.\n",
    "  \n",
    "Documentation: https://pytorch.org/docs/stable/generated/torch.nn.Linear.html"
   ]
  },
  {
   "cell_type": "code",
   "execution_count": 107,
   "metadata": {},
   "outputs": [],
   "source": [
    "class FullyConnectedNetworkModel(nn.Module):\n",
    "    def __init__(self, seed):\n",
    "        super().__init__()\n",
    "\n",
    "        self.seed = torch.manual_seed(seed)\n",
    "\n",
    "        self.fc = nn.Linear(2, 1, bias=False)\n",
    "\n",
    "        self.fc.weight.data = torch.tensor([1., -1.], requires_grad=True)\n",
    "\n",
    "    def forward(self, x):\n",
    "        x = torch.sigmoid(self.fc(x))\n",
    "\n",
    "        return x"
   ]
  },
  {
   "cell_type": "code",
   "execution_count": 109,
   "metadata": {},
   "outputs": [
    {
     "name": "stdout",
     "output_type": "stream",
     "text": [
      "w\n",
      "tensor([ 0.9925, -1.0075])\n",
      "w.grad\n",
      "tensor([0.0750, 0.0750])\n",
      "y\n",
      "tensor(0.5000, grad_fn=<SigmoidBackward>)\n",
      "loss\n",
      "tensor(0.0225, grad_fn=<PowBackward0>)\n",
      "\n",
      "\n",
      "w\n",
      "tensor([ 0.9852, -1.0148])\n",
      "w.grad\n",
      "tensor([0.0731, 0.0731])\n",
      "y\n",
      "tensor(0.5037, grad_fn=<SigmoidBackward>)\n",
      "loss\n",
      "tensor(0.0214, grad_fn=<PowBackward0>)\n",
      "\n",
      "\n",
      "w\n",
      "tensor([ 0.9781, -1.0219])\n",
      "w.grad\n",
      "tensor([0.0713, 0.0713])\n",
      "y\n",
      "tensor(0.5074, grad_fn=<SigmoidBackward>)\n",
      "loss\n",
      "tensor(0.0203, grad_fn=<PowBackward0>)\n",
      "\n",
      "\n",
      "w\n",
      "tensor([ 0.7236, -1.2764])\n",
      "w.grad\n",
      "tensor([0.0072, 0.0072])\n",
      "y\n",
      "tensor(0.6344, grad_fn=<SigmoidBackward>)\n",
      "loss\n",
      "tensor(0.0002, grad_fn=<PowBackward0>)\n",
      "\n",
      "\n",
      "w\n",
      "tensor([ 0.7229, -1.2771])\n",
      "w.grad\n",
      "tensor([0.0071, 0.0071])\n",
      "y\n",
      "tensor(0.6348, grad_fn=<SigmoidBackward>)\n",
      "loss\n",
      "tensor(0.0002, grad_fn=<PowBackward0>)\n",
      "\n",
      "\n",
      "w\n",
      "tensor([ 0.7222, -1.2778])\n",
      "w.grad\n",
      "tensor([0.0069, 0.0069])\n",
      "y\n",
      "tensor(0.6351, grad_fn=<SigmoidBackward>)\n",
      "loss\n",
      "tensor(0.0002, grad_fn=<PowBackward0>)\n",
      "\n",
      "\n",
      "tensor(0.6354, grad_fn=<SigmoidBackward>)\n"
     ]
    }
   ],
   "source": [
    "x = torch.tensor([-1.0, -1.0])\n",
    "target = 0.65\n",
    "\n",
    "fc_neural_net = FullyConnectedNetworkModel(seed=6789)\n",
    "\n",
    "optimizer = optim.SGD(fc_neural_net.parameters(), lr=0.1)\n",
    "\n",
    "losses = []\n",
    "n_epochs = 100\n",
    "for epoch in range(n_epochs):\n",
    "\n",
    "    optimizer.zero_grad()\n",
    "    y = fc_neural_net(x)\n",
    "    loss = torch.pow(y - target, 2)\n",
    "    loss.backward()\n",
    "    losses.append(loss.item())\n",
    "    optimizer.step()\n",
    "    \n",
    "    if epoch < 3 or epoch > 96:\n",
    "        print(\"w\")\n",
    "        print(fc_neural_net.fc.weight.data)\n",
    "        print(\"w.grad\")\n",
    "        print(next(fc_neural_net.parameters()).grad)\n",
    "        print(\"y\")\n",
    "        print(y)\n",
    "        print(\"loss\")\n",
    "        print(loss)\n",
    "        print()\n",
    "        print()\n",
    "        \n",
    "print(fc_neural_net(torch.tensor([-1.0, -1.0])))"
   ]
  },
  {
   "cell_type": "markdown",
   "metadata": {},
   "source": [
    "# Embedding layer\n",
    "\n",
    "An embedding layer is represented by torch.nn.Embedding. Its main parameters are:\n",
    "  - num_embeddings - the number of ids to embed,\n",
    "  - embedding_dim - the dimension of the embedding vector.\n",
    "  \n",
    "Documentation: https://pytorch.org/docs/stable/generated/torch.nn.Embedding.html\n",
    "\n",
    "In the example below we will have 3 movies and 3 users. The movies have already trained representations:\n",
    "  - $m0 = [2.0, 0.3, 0.5]$\n",
    "  - $m1 = [-1.7, 1.2, 1.4]$\n",
    "  - $m2 = [0.8, -1.5, -0.9]$\n",
    "where the three dimensions represent: level of violence, positive message, language (from foul to decent).\n",
    "\n",
    "We want to find user embeddings so that:\n",
    "  - user 0 likes movie 0 and dislikes movie 1 and 2,\n",
    "  - user 1 likes movie 1 and dislikes movie 0 and 2,\n",
    "  - user 2 likes movie 2 and dislikes movie 0 and 1."
   ]
  },
  {
   "cell_type": "code",
   "execution_count": 141,
   "metadata": {},
   "outputs": [],
   "source": [
    "class EmbeddingNetworkModel(nn.Module):\n",
    "    def __init__(self, seed):\n",
    "        super().__init__()\n",
    "\n",
    "        self.seed = torch.manual_seed(seed)\n",
    "\n",
    "        self.embedding = nn.Embedding(3, 3)\n",
    "\n",
    "    def forward(self, x):\n",
    "        user_id = x[0]\n",
    "        item_repr = x[1]\n",
    "        \n",
    "        y = self.embedding(user_id) * item_repr\n",
    "        y = torch.sum(y)\n",
    "        y = torch.sigmoid(y)\n",
    "\n",
    "        return y"
   ]
  },
  {
   "cell_type": "code",
   "execution_count": 152,
   "metadata": {},
   "outputs": [
    {
     "data": {
      "image/png": "[encoded data removed]",
      "text/plain": [
       "<Figure size 432x288 with 1 Axes>"
      ]
     },
     "metadata": {
      "needs_background": "light"
     },
     "output_type": "display_data"
    }
   ],
   "source": [
    "user_ids = [torch.tensor(0), torch.tensor(1), torch.tensor(2)]\n",
    "items = [torch.tensor([2.0, 0.3, 0.5]), \n",
    "         torch.tensor([-1.7, 1.2, 1.4]), \n",
    "         torch.tensor([0.8, -1.5, -0.9])]\n",
    "responses = [1, 0, 0, 0, 1, 0, 0, 0, 1]\n",
    "data = [(user_ids[user_id], items[item_id]) for user_id in range(3) for item_id in range(3)]\n",
    "\n",
    "embedding_nn = EmbeddingNetworkModel(seed=6789)\n",
    "\n",
    "optimizer = optim.SGD(embedding_nn.parameters(), lr=0.1)\n",
    "\n",
    "losses = []\n",
    "n_epochs = 1000\n",
    "for epoch in range(n_epochs):\n",
    "\n",
    "    optimizer.zero_grad()\n",
    "    \n",
    "    for i in range(len(data)):\n",
    "        user_id = data[i][0]\n",
    "        item_repr = data[i][1]\n",
    "        \n",
    "        y = embedding_nn((user_id, item_repr))\n",
    "        if i == 0:\n",
    "            loss = torch.pow(y - responses[i], 2)\n",
    "        else:\n",
    "            loss += torch.pow(y - responses[i], 2)\n",
    "    \n",
    "    loss.backward()\n",
    "    losses.append(loss.item())\n",
    "    optimizer.step()\n",
    "\n",
    "sns.lineplot(x=np.arange(n_epochs), y=losses).set_title('Training loss')\n",
    "plt.xlabel(\"epoch\")\n",
    "plt.ylabel(\"loss\")\n",
    "plt.show()"
   ]
  },
  {
   "cell_type": "code",
   "execution_count": 158,
   "metadata": {},
   "outputs": [
    {
     "name": "stdout",
     "output_type": "stream",
     "text": [
      "Embedding for user 0\n",
      "tensor([ 3.2125,  3.5110, -0.7015], grad_fn=<EmbeddingBackward>)\n",
      "Representation for item 0\n",
      "tensor([2.0000, 0.3000, 0.5000])\n",
      "Score=1.0\n",
      "\n",
      "Embedding for user 0\n",
      "tensor([ 3.2125,  3.5110, -0.7015], grad_fn=<EmbeddingBackward>)\n",
      "Representation for item 1\n",
      "tensor([-1.7000,  1.2000,  1.4000])\n",
      "Score=0.1\n",
      "\n",
      "Embedding for user 0\n",
      "tensor([ 3.2125,  3.5110, -0.7015], grad_fn=<EmbeddingBackward>)\n",
      "Representation for item 2\n",
      "tensor([ 0.8000, -1.5000, -0.9000])\n",
      "Score=0.11\n",
      "\n",
      "Embedding for user 1\n",
      "tensor([-2.1670,  0.9466,  0.5836], grad_fn=<EmbeddingBackward>)\n",
      "Representation for item 0\n",
      "tensor([2.0000, 0.3000, 0.5000])\n",
      "Score=0.02\n",
      "\n",
      "Embedding for user 1\n",
      "tensor([-2.1670,  0.9466,  0.5836], grad_fn=<EmbeddingBackward>)\n",
      "Representation for item 1\n",
      "tensor([-1.7000,  1.2000,  1.4000])\n",
      "Score=1.0\n",
      "\n",
      "Embedding for user 1\n",
      "tensor([-2.1670,  0.9466,  0.5836], grad_fn=<EmbeddingBackward>)\n",
      "Representation for item 2\n",
      "tensor([ 0.8000, -1.5000, -0.9000])\n",
      "Score=0.02\n",
      "\n",
      "Embedding for user 2\n",
      "tensor([-0.8861, -1.2192, -2.9579], grad_fn=<EmbeddingBackward>)\n",
      "Representation for item 0\n",
      "tensor([2.0000, 0.3000, 0.5000])\n",
      "Score=0.03\n",
      "\n",
      "Embedding for user 2\n",
      "tensor([-0.8861, -1.2192, -2.9579], grad_fn=<EmbeddingBackward>)\n",
      "Representation for item 1\n",
      "tensor([-1.7000,  1.2000,  1.4000])\n",
      "Score=0.02\n",
      "\n",
      "Embedding for user 2\n",
      "tensor([-0.8861, -1.2192, -2.9579], grad_fn=<EmbeddingBackward>)\n",
      "Representation for item 2\n",
      "tensor([ 0.8000, -1.5000, -0.9000])\n",
      "Score=0.98\n",
      "\n"
     ]
    }
   ],
   "source": [
    "id_pairs = [(user_id, item_id) for user_id in range(3) for item_id in range(3)]\n",
    "\n",
    "for id_pair in id_pairs:\n",
    "    print(\"Embedding for user {}\".format(id_pair[0]))\n",
    "    print(embedding_nn.embedding(user_ids[id_pair[0]]))\n",
    "    print(\"Representation for item {}\".format(id_pair[1]))\n",
    "    print(items[id_pair[1]])\n",
    "    print(\"Score={}\".format(round(embedding_nn((user_ids[id_pair[0]], items[id_pair[1]])).item(), 2)))\n",
    "    print()"
   ]
  }
 ],
 "metadata": {
  "kernelspec": {
   "display_name": "Python 3",
   "language": "python",
   "name": "python3"
  },
  "language_info": {
   "codemirror_mode": {
    "name": "ipython",
    "version": 3
   },
   "file_extension": ".py",
   "mimetype": "text/x-python",
   "name": "python",
   "nbconvert_exporter": "python",
   "pygments_lexer": "ipython3",
   "version": "3.8.5"
  }
 },
 "nbformat": 4,
 "nbformat_minor": 5
}
